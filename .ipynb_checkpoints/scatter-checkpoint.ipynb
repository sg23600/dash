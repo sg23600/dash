{
 "cells": [
  {
   "cell_type": "markdown",
   "metadata": {},
   "source": [
    "# Dash Tuitorial\n",
    "Dash is a web based framework made by plotly to deploy dynamic graphs."
   ]
  },
  {
   "cell_type": "code",
   "execution_count": 1,
   "metadata": {},
   "outputs": [],
   "source": [
    "import dash\n",
    "import plotly.graph_objs as go\n",
    "import dash_core_components as dcc\n",
    "import dash_html_components as html\n",
    "import pandas as pd"
   ]
  },
  {
   "cell_type": "code",
   "execution_count": 2,
   "metadata": {},
   "outputs": [],
   "source": [
    "app = dash.Dash()"
   ]
  },
  {
   "cell_type": "code",
   "execution_count": 3,
   "metadata": {},
   "outputs": [],
   "source": [
    "import numpy as np\n",
    "from datetime import datetime as dt"
   ]
  },
  {
   "cell_type": "code",
   "execution_count": 4,
   "metadata": {},
   "outputs": [],
   "source": [
    "np.random.seed(50)\n",
    "x_rand = np.random.randint(1, 61, 60)\n",
    "y_rand = np.random.randint(1, 61, 60)"
   ]
  },
  {
   "cell_type": "code",
   "execution_count": 5,
   "metadata": {},
   "outputs": [],
   "source": [
    "app.layout = html.Div([\n",
    "\n",
    "    dcc.Graph(\n",
    "        id = 'scatter_chart',\n",
    "        figure = {\n",
    "            'data' : [\n",
    "                go.Scatter(\n",
    "                    x = x_rand,\n",
    "                    y = y_rand,\n",
    "                    mode = 'markers'\n",
    "                )\n",
    "            ],\n",
    "\n",
    "            'layout' : go.Layout(\n",
    "                title = 'Scatterplot of Random 60 points',\n",
    "                xaxis = {'title' : 'Randmon X values'},\n",
    "                yaxis = {'title' : 'Randmon Y values'}\n",
    "            )\n",
    "        }\n",
    "        \n",
    "    )\n",
    "])"
   ]
  },
  {
   "cell_type": "markdown",
   "metadata": {},
   "source": [
    "# Dash Components\n",
    "### Dropdown"
   ]
  },
  {
   "cell_type": "code",
   "execution_count": 6,
   "metadata": {},
   "outputs": [],
   "source": [
    "app.layout = html.Div([\n",
    "    html.Label('Choose a City'),\n",
    "    html.Br(),\n",
    "    dcc.Dropdown(\n",
    "        id = 'first-dropdown',\n",
    "        options = [\n",
    "            {'label' : 'San Francisco', 'value' : 'SF'},\n",
    "            {'label' : 'New York City', 'value' : 'NYC'},\n",
    "            {'label' : 'Raleigh Durham', 'value' : 'RDU'}\n",
    "        ],\n",
    "        #value = 'NYC',\n",
    "        multi = True, #for multiple selections\n",
    "        placeholder = 'Select a City'\n",
    "    ),\n",
    "    \n",
    "    html.Br(),\n",
    "    html.Br(),\n",
    "    \n",
    "    html.Label('This is a Slider'),\n",
    "    dcc.Slider(\n",
    "    min = 1,\n",
    "    max = 10,\n",
    "    value = 5,\n",
    "    step = 0.5,\n",
    "    marks = {i: i for i in range(10)}\n",
    "    ),\n",
    "\n",
    "    html.Br(),\n",
    "    html.Br(),\n",
    "    \n",
    "    html.Label('This is a range slider'),\n",
    "    dcc.RangeSlider(\n",
    "    min = 1,\n",
    "    max = 10,\n",
    "    step = 0.5,\n",
    "    value = [3, 7],\n",
    "    marks = {i : i for i in range(10)}),\n",
    "    \n",
    "    html.Br(),\n",
    "    html.Br(),\n",
    "    \n",
    "    html.Label('This is an input box'),\n",
    "    dcc.Input(\n",
    "        placeholder = 'Input your name',\n",
    "        type = 'text',\n",
    "        value = ''),\n",
    "    \n",
    "    html.Br(),\n",
    "    html.Br(),\n",
    "    \n",
    "    html.Label('This is text area'),\n",
    "    dcc.Textarea(\n",
    "    placeholder = 'Input feedback',\n",
    "    style = { 'width' : '100%' }),\n",
    "    \n",
    "    #html.Br(),\n",
    "    html.Button('Submit', id = 'submit-form'),\n",
    "    html.Br(),\n",
    "    #html.Br(),\n",
    "    \n",
    "    html.Label('This is checklist'),\n",
    "    dcc.Checklist(\n",
    "    options = [\n",
    "            {'label' : 'San Francisco', 'value' : 'SF'},\n",
    "            {'label' : 'New York City', 'value' : 'NYC'},\n",
    "            {'label' : 'Raleigh Durham', 'value' : 'RDU'}\n",
    "        ],),\n",
    "    \n",
    "    html.Br(),\n",
    "    html.Br(),\n",
    "    \n",
    "    html.Label('This is radio button'),\n",
    "    dcc.RadioItems(\n",
    "    options = [\n",
    "            {'label' : 'San Francisco', 'value' : 'SF'},\n",
    "            {'label' : 'New York City', 'value' : 'NYC'},\n",
    "            {'label' : 'Raleigh Durham', 'value' : 'RDU'}\n",
    "        ],\n",
    "    value = 'NYC'\n",
    "    ),\n",
    "    \n",
    "    html.Br(),\n",
    "    html.Br(),\n",
    "    \n",
    "    html.Label('Date Picker'),\n",
    "    dcc.DatePickerSingle\n",
    "    (\n",
    "        id = 'dt-pick-single',\n",
    "        date = dt(2015, 5, 10)\n",
    "    )\n",
    "]\n",
    ")"
   ]
  },
  {
   "cell_type": "markdown",
   "metadata": {},
   "source": [
    "## Server"
   ]
  },
  {
   "cell_type": "code",
   "execution_count": 7,
   "metadata": {
    "tags": []
   },
   "outputs": [
    {
     "name": "stdout",
     "output_type": "stream",
     "text": [
      "Dash is running on http://127.0.0.1:8000/\n",
      "\n",
      " Warning: This is a development server. Do not use app.run_server\n",
      " in production, use a production WSGI server like gunicorn instead.\n",
      "\n",
      " * Serving Flask app \"__main__\" (lazy loading)\n",
      " * Environment: production\n",
      "   WARNING: This is a development server. Do not use it in a production deployment.\n",
      "   Use a production WSGI server instead.\n",
      " * Debug mode: off\n"
     ]
    },
    {
     "name": "stderr",
     "output_type": "stream",
     "text": [
      " * Running on http://127.0.0.1:8000/ (Press CTRL+C to quit)\n",
      "127.0.0.1 - - [16/Jul/2020 08:57:26] \"\u001b[37mGET / HTTP/1.1\u001b[0m\" 200 -\n",
      "127.0.0.1 - - [16/Jul/2020 08:57:26] \"\u001b[37mGET /_dash-layout HTTP/1.1\u001b[0m\" 200 -\n",
      "127.0.0.1 - - [16/Jul/2020 08:57:26] \"\u001b[37mGET /_dash-dependencies HTTP/1.1\u001b[0m\" 200 -\n"
     ]
    }
   ],
   "source": [
    "if __name__ == '__main__':\n",
    "    app.run_server(port = 8000)"
   ]
  },
  {
   "cell_type": "code",
   "execution_count": null,
   "metadata": {},
   "outputs": [],
   "source": []
  },
  {
   "cell_type": "code",
   "execution_count": null,
   "metadata": {},
   "outputs": [],
   "source": []
  }
 ],
 "metadata": {
  "kernelspec": {
   "display_name": "Python 3",
   "language": "python",
   "name": "python3"
  },
  "language_info": {
   "codemirror_mode": {
    "name": "ipython",
    "version": 3
   },
   "file_extension": ".py",
   "mimetype": "text/x-python",
   "name": "python",
   "nbconvert_exporter": "python",
   "pygments_lexer": "ipython3",
   "version": "3.6.9"
  }
 },
 "nbformat": 4,
 "nbformat_minor": 2
}
