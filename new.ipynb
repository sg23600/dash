{
 "cells": [
  {
   "cell_type": "code",
   "execution_count": 1,
   "metadata": {},
   "outputs": [],
   "source": [
    "import dash\n",
    "import dash_core_components as dcc \n",
    "import dash_html_components as html \n",
    "import pandas_datareader.data as web\n",
    "from dash.dependencies import Input, Output\n",
    "import datetime"
   ]
  },
  {
   "cell_type": "code",
   "execution_count": 2,
   "metadata": {},
   "outputs": [],
   "source": [
    "app = dash.Dash()"
   ]
  },
  {
   "cell_type": "code",
   "execution_count": 3,
   "metadata": {},
   "outputs": [],
   "source": [
    "app.layout = html.Div(children=[\n",
    "    html.Div(children='''\n",
    "        symbol to graph\n",
    "    '''),\n",
    "\n",
    "    dcc.Input(id='input', value='', type='text'),\n",
    "    html.Div(id='ouput-graph')\n",
    "\n",
    "])\n",
    "\n",
    "@app.callback (\n",
    "    Output(component_id='output-graph', component_property='children'),\n",
    "    [Input(component_id='input', component_property='value')]\n",
    "    ) \n",
    "    \n",
    "def upddate_graph(input_data):\n",
    "    start = datetime.datetime(2019, 7, 16)\n",
    "    end = datetime.datetime.now()\n",
    "    df = web.DataReader(input_data, 'yahoo', start, end)\n",
    "    return dcc.Graph(\n",
    "        id='example-graph',\n",
    "        figure={\n",
    "            'data':[\n",
    "                {'x': df.index, 'y': df.Close, 'type': 'line', 'name': input_data},\n",
    "            ],\n",
    "            'layout': {\n",
    "                'title': input_data\n",
    "            }\n",
    "        }\n",
    "    )"
   ]
  },
  {
   "cell_type": "code",
   "execution_count": 4,
   "metadata": {
    "tags": []
   },
   "outputs": [
    {
     "output_type": "stream",
     "name": "stdout",
     "text": "Dash is running on http://127.0.0.1:8888/\n\n Warning: This is a development server. Do not use app.run_server\n in production, use a production WSGI server like gunicorn instead.\n\n * Serving Flask app \"__main__\" (lazy loading)\n * Environment: production\n   WARNING: This is a development server. Do not use it in a production deployment.\n   Use a production WSGI server instead.\n * Debug mode: off\n * Running on http://127.0.0.1:8888/ (Press CTRL+C to quit)\n127.0.0.1 - - [16/Jul/2020 19:36:21] \"\u001b[37mGET / HTTP/1.1\u001b[0m\" 200 -\n127.0.0.1 - - [16/Jul/2020 19:36:22] \"\u001b[37mGET /_dash-layout HTTP/1.1\u001b[0m\" 200 -\n127.0.0.1 - - [16/Jul/2020 19:36:22] \"\u001b[37mGET /_dash-dependencies HTTP/1.1\u001b[0m\" 200 -\n127.0.0.1 - - [16/Jul/2020 19:36:22] \"\u001b[37mGET /_favicon.ico?v=1.13.4 HTTP/1.1\u001b[0m\" 200 -\n"
    }
   ],
   "source": [
    "if __name__ == '__main__':\n",
    "    app.run_server(port=8888)"
   ]
  },
  {
   "cell_type": "code",
   "execution_count": null,
   "metadata": {},
   "outputs": [],
   "source": []
  }
 ],
 "metadata": {
  "language_info": {
   "codemirror_mode": {
    "name": "ipython",
    "version": 3
   },
   "file_extension": ".py",
   "mimetype": "text/x-python",
   "name": "python",
   "nbconvert_exporter": "python",
   "pygments_lexer": "ipython3",
   "version": 3
  },
  "orig_nbformat": 2,
  "kernelspec": {
   "name": "python_defaultSpec_1594884206010",
   "display_name": "Python 3.6.9 64-bit"
  }
 },
 "nbformat": 4,
 "nbformat_minor": 2
}