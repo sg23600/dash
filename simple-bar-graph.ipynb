{
 "cells": [
  {
   "cell_type": "code",
   "execution_count": 1,
   "metadata": {},
   "outputs": [],
   "source": [
    "import dash\n",
    "import dash_core_components as dcc\n",
    "import dash_html_components as html"
   ]
  },
  {
   "cell_type": "code",
   "execution_count": 2,
   "metadata": {},
   "outputs": [],
   "source": [
    "app = dash.Dash()"
   ]
  },
  {
   "cell_type": "code",
   "execution_count": 3,
   "metadata": {},
   "outputs": [],
   "source": [
    "colors = {\n",
    "    'text' : '#ff0000',\n",
    "    'plot_color' : '#D3D3D3',\n",
    "    'paper_color' : '#00FFFF'\n",
    "}"
   ]
  },
  {
   "cell_type": "code",
   "execution_count": 4,
   "metadata": {},
   "outputs": [],
   "source": [
    "app.layout = html.Div([\n",
    "    html.H1(\n",
    "        children = 'Hello Dash!!',\n",
    "        style = {'textAlign' : 'center',\n",
    "                 'font-family' : 'Ariel',\n",
    "                'color' : colors['text']}\n",
    "            ),\n",
    "    html.Div(children = 'Dash - A Data product development framework from plotly',\n",
    "            style = {'textAlign' : 'center',\n",
    "                     'color' : colors['text']}),\n",
    "\n",
    "    dcc.Graph(\n",
    "        id = 'sample-graph',\n",
    "        figure = {\n",
    "            'data' : [\n",
    "                {'x' : [5, 6, 7],'y' : [12, 15, 18], 'type' : 'bar', 'name' : 'First Chart'},\n",
    "                {'x' : [5, 6, 7],'y' : [20, 24, 26], 'type' : 'bar', 'name' : 'Second Chart'},\n",
    "                ],\n",
    "            'layout' : {\n",
    "                'title' : 'Simple Bar Chart',\n",
    "                'plot_bgcolor' : colors['plot_color'],\n",
    "                'paper_bgcolor' : colors['paper_color'],\n",
    "                'font' : {\n",
    "                    'color' : colors['text']\n",
    "                },\n",
    "\n",
    "            }\n",
    "        }\n",
    "    )\n",
    "])"
   ]
  },
  {
   "cell_type": "code",
   "execution_count": 6,
   "metadata": {
    "tags": []
   },
   "outputs": [
    {
     "output_type": "stream",
     "name": "stdout",
     "text": "Dash is running on http://127.0.0.1:9999/\n\n Warning: This is a development server. Do not use app.run_server\n in production, use a production WSGI server like gunicorn instead.\n\n * Serving Flask app \"__main__\" (lazy loading)\n * Environment: production\n   WARNING: This is a development server. Do not use it in a production deployment.\n   Use a production WSGI server instead.\n * Debug mode: off\n * Running on http://127.0.0.1:9999/ (Press CTRL+C to quit)\n127.0.0.1 - - [16/Jul/2020 12:52:24] \"\u001b[37mGET / HTTP/1.1\u001b[0m\" 200 -\n127.0.0.1 - - [16/Jul/2020 12:52:24] \"\u001b[37mGET /_dash-component-suites/dash_renderer/polyfill@7.v1_5_1m1594644182.8.7.min.js HTTP/1.1\u001b[0m\" 200 -\n127.0.0.1 - - [16/Jul/2020 12:52:24] \"\u001b[37mGET /_dash-component-suites/dash_renderer/prop-types@15.v1_5_1m1594644182.7.2.min.js HTTP/1.1\u001b[0m\" 200 -\n127.0.0.1 - - [16/Jul/2020 12:52:24] \"\u001b[37mGET /_dash-component-suites/dash_renderer/react-dom@16.v1_5_1m1594644182.13.0.min.js HTTP/1.1\u001b[0m\" 200 -\n127.0.0.1 - - [16/Jul/2020 12:52:24] \"\u001b[37mGET /_dash-component-suites/dash_html_components/dash_html_components.v1_0_3m1594644182.min.js HTTP/1.1\u001b[0m\" 200 -\n127.0.0.1 - - [16/Jul/2020 12:52:24] \"\u001b[37mGET /_dash-component-suites/dash_renderer/react@16.v1_5_1m1594644182.13.0.min.js HTTP/1.1\u001b[0m\" 200 -\n127.0.0.1 - - [16/Jul/2020 12:52:24] \"\u001b[37mGET /_dash-component-suites/dash_core_components/dash_core_components-shared.v1_10_1m1594644182.js HTTP/1.1\u001b[0m\" 200 -\n127.0.0.1 - - [16/Jul/2020 12:52:24] \"\u001b[37mGET /_dash-component-suites/dash_core_components/dash_core_components.v1_10_1m1594644182.min.js HTTP/1.1\u001b[0m\" 200 -\n127.0.0.1 - - [16/Jul/2020 12:52:25] \"\u001b[37mGET /_dash-component-suites/dash_renderer/dash_renderer.v1_5_1m1594644182.min.js HTTP/1.1\u001b[0m\" 200 -\n127.0.0.1 - - [16/Jul/2020 12:52:25] \"\u001b[37mGET /_dash-layout HTTP/1.1\u001b[0m\" 200 -\n127.0.0.1 - - [16/Jul/2020 12:52:25] \"\u001b[37mGET /_dash-dependencies HTTP/1.1\u001b[0m\" 200 -\n127.0.0.1 - - [16/Jul/2020 12:52:25] \"\u001b[37mGET /_favicon.ico?v=1.13.4 HTTP/1.1\u001b[0m\" 200 -\n127.0.0.1 - - [16/Jul/2020 12:52:25] \"\u001b[37mGET /_dash-component-suites/dash_core_components/async-graph.v1_10_1m1592438751.js HTTP/1.1\u001b[0m\" 200 -\n127.0.0.1 - - [16/Jul/2020 12:52:25] \"\u001b[37mGET /_dash-component-suites/dash_core_components/async-plotlyjs.v1_10_1m1592438751.js HTTP/1.1\u001b[0m\" 200 -\n"
    }
   ],
   "source": [
    "if __name__ == '__main__':\n",
    "    app.run_server(port = 9999)"
   ]
  },
  {
   "cell_type": "code",
   "execution_count": null,
   "metadata": {},
   "outputs": [],
   "source": []
  }
 ],
 "metadata": {
  "kernelspec": {
   "display_name": "Python 3.6.9 64-bit",
   "language": "python",
   "name": "python36964bit407c4f9b5ee94e8f9d6db5913ba1d3c3"
  },
  "language_info": {
   "codemirror_mode": {
    "name": "ipython",
    "version": 3
   },
   "file_extension": ".py",
   "mimetype": "text/x-python",
   "name": "python",
   "nbconvert_exporter": "python",
   "pygments_lexer": "ipython3",
   "version": "3.6.9-final"
  }
 },
 "nbformat": 4,
 "nbformat_minor": 2
}